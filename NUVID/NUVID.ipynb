{
 "cells": [
  {
   "cell_type": "code",
   "execution_count": 1,
   "id": "553a010a",
   "metadata": {},
   "outputs": [],
   "source": [
    "# -*- coding: utf-8 -*-\n",
    "\"\"\"\n",
    "Created on Sun Feb  6 08:57:45 2022\n",
    "\n",
    "@author: ChewingGumKing_OJF\n",
    "\"\"\"\n",
    "\n",
    "from selenium import webdriver\n",
    "import pandas as pd\n",
    "import time\n",
    "from selenium.webdriver.common.keys import Keys \n",
    "import os\n",
    "from datetime import datetime\n",
    "import openpyxl\n",
    "import shutil\n",
    "import itertools\n",
    "import glob\n",
    "import os\n",
    "import warnings\n",
    "import copy\n",
    "import itertools\n",
    "import pyautogui\n",
    "import json\n",
    "warnings.filterwarnings(\"ignore\")\n",
    "\n",
    "\n",
    "\n"
   ]
  },
  {
   "cell_type": "code",
   "execution_count": null,
   "id": "5fa00d54",
   "metadata": {},
   "outputs": [],
   "source": []
  },
  {
   "cell_type": "code",
   "execution_count": 2,
   "id": "2711742f",
   "metadata": {},
   "outputs": [],
   "source": [
    "try:\n",
    "    # reading the straight_data from the file \n",
    "    with open('straight.txt') as f: \n",
    "        data1 = f.read()    \n",
    "    # reconstructing the data as a dictionary \n",
    "    straight = json.loads(data1) \n",
    "    # reading the gay_data from the file \n",
    "    with open('gay.txt') as fa: \n",
    "        data2 = fa.read()    \n",
    "    # reconstructing the data as a dictionary \n",
    "    gay = json.loads(data2) \n",
    "    # reading the data from the file \n",
    "    with open('trans.txt') as fah: \n",
    "        data3 = fah.read()    \n",
    "    # reconstructing the data as a dictionary \n",
    "    trans = json.loads(data3)\n",
    "except:\n",
    "    print('Kernel needs to restart!! Press run the code again')\n",
    "    exit()\n",
    "\n",
    "try:\n",
    "    dr_dir=os.getcwd()\n",
    "    dr_dire=dr_dir.replace(\"\\\\NUVID\",\"\")\n",
    "except:\n",
    "    print(\"Could not get a valid current working directory, please manually provide one that ends in a 'DRTUBER' folder\")\n",
    "    dr_dire=input(\"Please provide a directory here; \")\n",
    "try:\n",
    "    path=dr_dire + \"\\\\videos\"\n",
    "    os.chdir(path)\n",
    "except:\n",
    "    print('Kernel will restart!! Press \"OK\" and run the code again')\n",
    "    exit()"
   ]
  },
  {
   "cell_type": "code",
   "execution_count": 3,
   "id": "8dead30b",
   "metadata": {},
   "outputs": [
    {
     "data": {
      "text/plain": [
       "'C:\\\\Users\\\\840 g3\\\\Desktop\\\\upload_web\\\\videos'"
      ]
     },
     "execution_count": 3,
     "metadata": {},
     "output_type": "execute_result"
    }
   ],
   "source": [
    "os.getcwd()"
   ]
  },
  {
   "cell_type": "code",
   "execution_count": 4,
   "id": "7430ddbb",
   "metadata": {},
   "outputs": [],
   "source": [
    "#link to web driver\n",
    "#C:\\Users\\840 g3\\Desktop\\upload_web\n",
    "driver = webdriver.Chrome('C:/Users/840 g3/Desktop/upload_web/chromedriver.exe')\n",
    "url = 'https://www.nuvid.com/'\n",
    "driver.get(url)\n",
    "driver.maximize_window()\n",
    "time.sleep(3)\n",
    "#click the login key\n",
    "driver.find_element_by_xpath('/html/body/div[1]/header/div[2]/a[2]/span').click()\n",
    "time.sleep(3)\n",
    "#login with username and password\n",
    "def login():\n",
    "    login = driver.find_element_by_name('username')\n",
    "    password = driver.find_element_by_name('password')\n",
    "\n",
    "    #enter the credentials here\n",
    "    login.send_keys('opeolu202')\n",
    "    password.send_keys('Opeolu2012')\n",
    "    time.sleep(2)\n",
    "    #click_checkbox=driver.find_element_by_xpath('/html/body/div[6]/div[1]/div/form/div[2]/div[3]/label').click()\n",
    "    #time.sleep(1)\n",
    "    login.send_keys(Keys.RETURN)\n",
    "    time.sleep(5)\n",
    "login()\n",
    "try:\n",
    "    password = driver.find_element_by_name('password')\n",
    "    print('Could not log in, please retry after some hours')\n",
    "    exit()\n",
    "except:\n",
    "    pass"
   ]
  },
  {
   "cell_type": "code",
   "execution_count": null,
   "id": "1ab53ff2",
   "metadata": {},
   "outputs": [],
   "source": []
  },
  {
   "cell_type": "code",
   "execution_count": null,
   "id": "3e0a7256",
   "metadata": {},
   "outputs": [],
   "source": []
  },
  {
   "cell_type": "code",
   "execution_count": 14,
   "id": "c991a96d",
   "metadata": {},
   "outputs": [],
   "source": [
    "mp4 = []\n",
    "AVI = []\n",
    "MOV = []\n",
    "MPEG = []\n",
    "MPG = []\n",
    "WMV = []\n",
    "GP3 = []\n",
    "FLV = []\n",
    "MKV = []\n",
    "for k in os.listdir():\n",
    "    mp4 = glob.glob(path + '/*.mp4')\n",
    "    AVI = glob.glob(path + '/*.avi')\n",
    "    MOV = glob.glob(path + '/*.mov')\n",
    "    MPEG = glob.glob(path + '/*.mpeg')\n",
    "    MPG = glob.glob(path + '/*.mpg')\n",
    "    WMV = glob.glob(path + '/*.wmv')\n",
    "    GP3 = glob.glob(path + '/*.3gp')\n",
    "    FLV = glob.glob(path + '/*.flv')\n",
    "    MKV = glob.glob(path + '/*.mkv')\n",
    "\n",
    "\n",
    "combined = itertools.chain(mp4, AVI, MOV, MPEG, MPG, WMV, GP3, FLV, MKV)\n",
    "uploads=list(combined)\n",
    "files=[i.rsplit(\"\\\\\")[-1] for i in uploads]\n",
    "#link to web driver\n"
   ]
  },
  {
   "cell_type": "code",
   "execution_count": null,
   "id": "1228d429",
   "metadata": {},
   "outputs": [],
   "source": []
  },
  {
   "cell_type": "code",
   "execution_count": 15,
   "id": "b6ae33c4",
   "metadata": {},
   "outputs": [],
   "source": [
    "for idx, k in enumerate(files):\n",
    "    driver.get(\"https://www.nuvid.com/upload\")\n",
    "    try:\n",
    "        alert = driver.switch_to.alert\n",
    "        alert.accept()\n",
    "        driver.implicitly_wait(20)\n",
    "    except:\n",
    "        pass\n",
    "    desc = \".\".join(k.split('.')[:-1])\n",
    "    titil=\".\".join(k.split('.')[:-1])\n",
    "    driver.implicitly_wait(5)\n",
    "    driver.find_element_by_xpath(\"/html/body/div[2]/div[3]/div/form/div/fieldset/div[1]/div/div[1]/input\").click()\n",
    "    time.sleep(5)\n",
    "\n",
    "    pyautogui.write(r'{}'.format(path+'\\\\'+ \".\".join(k.split('.')[:-1])))\n",
    "    pyautogui.press('return')\n",
    "\n",
    "    driver.implicitly_wait(3)\n",
    "    driver.find_element_by_xpath('/html/body/div[2]/div[3]/div/form/div/fieldset/div[7]/div/textarea').send_keys(desc)\n",
    "    driver.implicitly_wait(3)\n",
    "    driver.find_element_by_xpath('/html/body/div[2]/div[3]/div/form/div/fieldset/div[3]/div/input').send_keys(titil)\n",
    "    \n",
    "    break\n",
    "    "
   ]
  },
  {
   "cell_type": "code",
   "execution_count": null,
   "id": "257a004c",
   "metadata": {},
   "outputs": [],
   "source": []
  },
  {
   "cell_type": "code",
   "execution_count": 16,
   "id": "fb3a1cf8",
   "metadata": {},
   "outputs": [
    {
     "name": "stdout",
     "output_type": "stream",
     "text": [
      "Enter any category type(just one of straight, gay or trans); straight\n",
      "Enter any number of category (each category seperated by comma and not more than 10); Group Sex, Guy Fucks Shemale ,Handjob ,Interracial ,Ladyboy, Latex ,LatinBig Tits, Black And Ebony ,Blowjob ,Creampie ,Cumshot ,European, Gangbang\n",
      "Guy Fucks Shemale  was not found. Please enter only one VALID category!!\n",
      "ebony\n",
      "Ebony  was not found. Please only one VALID category!!\n",
      "blowjob\n",
      "Ladyboy  was not found. Please enter only one VALID category!!\n",
      "handjob\n",
      "Latinbig Tits  was not found. Please enter only one VALID category!!\n",
      "european\n"
     ]
    }
   ],
   "source": [
    "#pick one of three category types straight,gay or trans\n",
    "category_selection=[\"straight\",\"gay\",\"trans\"]\n",
    "user_input=input(\"Enter any category type(just one of straight, gay or trans); \").lower()\n",
    "\n",
    "while user_input not in category_selection:\n",
    "    user_input=input(\"Enter any category type(just one of straight, gay or trans); \").lower()\n",
    "\n",
    "category_type=user_input.strip().title()\n",
    "if category_type==\"Straight\":\n",
    "    User_input=input(\"Enter any number of category (each category seperated by comma and not more than 10); \").split(\",\")\n",
    "    category=[i.strip().title() for i in User_input]\n",
    "    category_copy=[i.strip().title() for i in User_input]\n",
    "    count=0\n",
    "    for j in category:\n",
    "        if count>9:\n",
    "            break\n",
    "        try:\n",
    "            xpath=straight[j] + \"/label\"\n",
    "            driver.find_element_by_xpath(f\"{xpath}\").click()\n",
    "            try:\n",
    "                alert = driver.switch_to.alert\n",
    "                alert.accept()\n",
    "                driver.implicitly_wait(20)\n",
    "            except:\n",
    "                pass\n",
    "        except:\n",
    "            print(j,\" was not found. Please enter only one VALID category!!\")\n",
    "            j = input().title()\n",
    "\n",
    "            if \",\" in j:\n",
    "                j = input().title()\n",
    "\n",
    "            while j not in straight.keys():\n",
    "                print(j,\" was not found. Please only one VALID category!!\")\n",
    "                j = input().title()\n",
    "                if \",\" in j:\n",
    "                    j = input().title()\n",
    "\n",
    "            xpath = straight[j] + \"/label\"\n",
    "            driver.find_element_by_xpath(f\"{xpath}\").click()\n",
    "            try:\n",
    "                alert = driver.switch_to.alert\n",
    "                alert.accept()\n",
    "                driver.implicitly_wait(20)\n",
    "            except:\n",
    "                pass\n",
    "        count+=1\n",
    "\n",
    "elif category_type==\"Gay\":\n",
    "    User_input=input(\"Enter any number of category(each category seperated by comma and not more than 10); \").split(\",\")\n",
    "    category=[i.strip().title() for i in User_input]\n",
    "    category_copy=[i.strip().title() for i in User_input]\n",
    "    count=0\n",
    "    for j in category:\n",
    "        if count>9:\n",
    "            break\n",
    "        try:\n",
    "            xpath=gay[j] + \"/label\"\n",
    "            driver.find_element_by_xpath(f\"{xpath}\").click()\n",
    "            try:\n",
    "                alert = driver.switch_to.alert\n",
    "                alert.accept()\n",
    "                driver.implicitly_wait(20)\n",
    "            except:\n",
    "                pass\n",
    "        except:\n",
    "            print(j,\" was not found. Please enter only one VALID category!!\")\n",
    "            j = input().title()\n",
    "\n",
    "            if \",\" in j:\n",
    "                j = input().title()\n",
    "\n",
    "            while j not in gay.keys():\n",
    "                print(j,\" was not found. Please enter only one VALID category!!\")\n",
    "                j = input().title()\n",
    "                if \",\" in j:\n",
    "                    j = input().title()\n",
    "\n",
    "            xpath = gay[j] + \"/label\"\n",
    "            driver.find_element_by_xpath(f\"{xpath}\").click()\n",
    "            try:\n",
    "                alert = driver.switch_to.alert\n",
    "                alert.accept()\n",
    "                driver.implicitly_wait(20)\n",
    "            except:\n",
    "                pass\n",
    "        count+=1\n",
    "\n",
    "\n",
    "elif category_type==\"Trans\":\n",
    "    \n",
    "    User_input=input(\"Enter any number of category(each category seperated by comma and not more than 10); \").split(\",\")\n",
    "    category=[i.strip().title() for i in User_input]\n",
    "    category_copy=[i.strip().title() for i in User_input]\n",
    "    count=0\n",
    "    for j in category:\n",
    "        if count>9:\n",
    "            break\n",
    "        try:\n",
    "            xpath=trans[j] + \"/label\"\n",
    "            driver.find_element_by_xpath(f\"{xpath}\").click()\n",
    "            try:\n",
    "                alert = driver.switch_to.alert\n",
    "                alert.accept()\n",
    "                driver.implicitly_wait(20)\n",
    "            except:\n",
    "                pass\n",
    "        except:\n",
    "            print(j,\" was not found. Please enter only one VALID category!!\")\n",
    "            j = input().title()\n",
    "\n",
    "            if \",\" in j:\n",
    "                j = input().title()\n",
    "\n",
    "            while j not in trans.keys():\n",
    "                print(j,\" was not found. Please enter only one VALID category!!\")\n",
    "                j = input().title()\n",
    "                if \",\" in j:\n",
    "                    j = input().title()\n",
    "\n",
    "            xpath = trans[j] + \"/label\"\n",
    "            driver.find_element_by_xpath(f\"{xpath}\").click()\n",
    "            try:\n",
    "                alert = driver.switch_to.alert\n",
    "                alert.accept()\n",
    "                driver.implicitly_wait(20)\n",
    "            except:\n",
    "                pass\n",
    "        count+=1\n",
    "\n",
    "else:\n",
    "    print(\"Enter a valid category_type\") \n"
   ]
  },
  {
   "cell_type": "code",
   "execution_count": null,
   "id": "fac0e37d",
   "metadata": {},
   "outputs": [],
   "source": []
  },
  {
   "cell_type": "code",
   "execution_count": 24,
   "id": "61964c53",
   "metadata": {},
   "outputs": [
    {
     "ename": "ElementClickInterceptedException",
     "evalue": "Message: element click intercepted: Element <input name=\"terms\" id=\"terms\" value=\"1\" class=\"check\" type=\"checkbox\"> is not clickable at point (316, 324). Other element would receive the click: <fieldset>...</fieldset>\n  (Session info: chrome=98.0.4758.82)\nStacktrace:\nBacktrace:\n\tOrdinal0 [0x0097FDC3+2555331]\n\tOrdinal0 [0x009177F1+2127857]\n\tOrdinal0 [0x00812E08+1060360]\n\tOrdinal0 [0x008448CF+1263823]\n\tOrdinal0 [0x00842B10+1256208]\n\tOrdinal0 [0x0084076B+1247083]\n\tOrdinal0 [0x0083F559+1242457]\n\tOrdinal0 [0x00834FB3+1200051]\n\tOrdinal0 [0x00857B0C+1342220]\n\tOrdinal0 [0x00834984+1198468]\n\tOrdinal0 [0x00857C14+1342484]\n\tOrdinal0 [0x008675FA+1406458]\n\tOrdinal0 [0x00857976+1341814]\n\tOrdinal0 [0x008336B6+1193654]\n\tOrdinal0 [0x00834546+1197382]\n\tGetHandleVerifier [0x00B19622+1619522]\n\tGetHandleVerifier [0x00BC882C+2336844]\n\tGetHandleVerifier [0x00A123E1+541697]\n\tGetHandleVerifier [0x00A11443+537699]\n\tOrdinal0 [0x0091D18E+2150798]\n\tOrdinal0 [0x00921518+2168088]\n\tOrdinal0 [0x00921660+2168416]\n\tOrdinal0 [0x0092B330+2208560]\n\tBaseThreadInitThunk [0x76FEFA29+25]\n\tRtlGetAppContainerNamedObjectPath [0x77597A9E+286]\n\tRtlGetAppContainerNamedObjectPath [0x77597A6E+238]\n",
     "output_type": "error",
     "traceback": [
      "\u001b[1;31m---------------------------------------------------------------------------\u001b[0m",
      "\u001b[1;31mElementClickInterceptedException\u001b[0m          Traceback (most recent call last)",
      "\u001b[1;32mC:\\Users\\840G3~1\\AppData\\Local\\Temp/ipykernel_15980/3334727687.py\u001b[0m in \u001b[0;36m<module>\u001b[1;34m\u001b[0m\n\u001b[0;32m      1\u001b[0m \u001b[1;31m#agreement\u001b[0m\u001b[1;33m\u001b[0m\u001b[1;33m\u001b[0m\u001b[0m\n\u001b[1;32m----> 2\u001b[1;33m \u001b[0mdriver\u001b[0m\u001b[1;33m.\u001b[0m\u001b[0mfind_element_by_xpath\u001b[0m\u001b[1;33m(\u001b[0m\u001b[1;34m'/html/body/div[2]/div[3]/div/form/div/fieldset/div[17]/div/input'\u001b[0m\u001b[1;33m)\u001b[0m\u001b[1;33m.\u001b[0m\u001b[0mclick\u001b[0m\u001b[1;33m(\u001b[0m\u001b[1;33m)\u001b[0m\u001b[1;33m\u001b[0m\u001b[1;33m\u001b[0m\u001b[0m\n\u001b[0m",
      "\u001b[1;32mC:\\ProgramData\\Anaconda3\\lib\\site-packages\\selenium\\webdriver\\remote\\webelement.py\u001b[0m in \u001b[0;36mclick\u001b[1;34m(self)\u001b[0m\n\u001b[0;32m     79\u001b[0m     \u001b[1;32mdef\u001b[0m \u001b[0mclick\u001b[0m\u001b[1;33m(\u001b[0m\u001b[0mself\u001b[0m\u001b[1;33m)\u001b[0m \u001b[1;33m->\u001b[0m \u001b[1;32mNone\u001b[0m\u001b[1;33m:\u001b[0m\u001b[1;33m\u001b[0m\u001b[1;33m\u001b[0m\u001b[0m\n\u001b[0;32m     80\u001b[0m         \u001b[1;34m\"\"\"Clicks the element.\"\"\"\u001b[0m\u001b[1;33m\u001b[0m\u001b[1;33m\u001b[0m\u001b[0m\n\u001b[1;32m---> 81\u001b[1;33m         \u001b[0mself\u001b[0m\u001b[1;33m.\u001b[0m\u001b[0m_execute\u001b[0m\u001b[1;33m(\u001b[0m\u001b[0mCommand\u001b[0m\u001b[1;33m.\u001b[0m\u001b[0mCLICK_ELEMENT\u001b[0m\u001b[1;33m)\u001b[0m\u001b[1;33m\u001b[0m\u001b[1;33m\u001b[0m\u001b[0m\n\u001b[0m\u001b[0;32m     82\u001b[0m \u001b[1;33m\u001b[0m\u001b[0m\n\u001b[0;32m     83\u001b[0m     \u001b[1;32mdef\u001b[0m \u001b[0msubmit\u001b[0m\u001b[1;33m(\u001b[0m\u001b[0mself\u001b[0m\u001b[1;33m)\u001b[0m\u001b[1;33m:\u001b[0m\u001b[1;33m\u001b[0m\u001b[1;33m\u001b[0m\u001b[0m\n",
      "\u001b[1;32mC:\\ProgramData\\Anaconda3\\lib\\site-packages\\selenium\\webdriver\\remote\\webelement.py\u001b[0m in \u001b[0;36m_execute\u001b[1;34m(self, command, params)\u001b[0m\n\u001b[0;32m    708\u001b[0m             \u001b[0mparams\u001b[0m \u001b[1;33m=\u001b[0m \u001b[1;33m{\u001b[0m\u001b[1;33m}\u001b[0m\u001b[1;33m\u001b[0m\u001b[1;33m\u001b[0m\u001b[0m\n\u001b[0;32m    709\u001b[0m         \u001b[0mparams\u001b[0m\u001b[1;33m[\u001b[0m\u001b[1;34m'id'\u001b[0m\u001b[1;33m]\u001b[0m \u001b[1;33m=\u001b[0m \u001b[0mself\u001b[0m\u001b[1;33m.\u001b[0m\u001b[0m_id\u001b[0m\u001b[1;33m\u001b[0m\u001b[1;33m\u001b[0m\u001b[0m\n\u001b[1;32m--> 710\u001b[1;33m         \u001b[1;32mreturn\u001b[0m \u001b[0mself\u001b[0m\u001b[1;33m.\u001b[0m\u001b[0m_parent\u001b[0m\u001b[1;33m.\u001b[0m\u001b[0mexecute\u001b[0m\u001b[1;33m(\u001b[0m\u001b[0mcommand\u001b[0m\u001b[1;33m,\u001b[0m \u001b[0mparams\u001b[0m\u001b[1;33m)\u001b[0m\u001b[1;33m\u001b[0m\u001b[1;33m\u001b[0m\u001b[0m\n\u001b[0m\u001b[0;32m    711\u001b[0m \u001b[1;33m\u001b[0m\u001b[0m\n\u001b[0;32m    712\u001b[0m     \u001b[1;32mdef\u001b[0m \u001b[0mfind_element\u001b[0m\u001b[1;33m(\u001b[0m\u001b[0mself\u001b[0m\u001b[1;33m,\u001b[0m \u001b[0mby\u001b[0m\u001b[1;33m=\u001b[0m\u001b[0mBy\u001b[0m\u001b[1;33m.\u001b[0m\u001b[0mID\u001b[0m\u001b[1;33m,\u001b[0m \u001b[0mvalue\u001b[0m\u001b[1;33m=\u001b[0m\u001b[1;32mNone\u001b[0m\u001b[1;33m)\u001b[0m\u001b[1;33m:\u001b[0m\u001b[1;33m\u001b[0m\u001b[1;33m\u001b[0m\u001b[0m\n",
      "\u001b[1;32mC:\\ProgramData\\Anaconda3\\lib\\site-packages\\selenium\\webdriver\\remote\\webdriver.py\u001b[0m in \u001b[0;36mexecute\u001b[1;34m(self, driver_command, params)\u001b[0m\n\u001b[0;32m    422\u001b[0m         \u001b[0mresponse\u001b[0m \u001b[1;33m=\u001b[0m \u001b[0mself\u001b[0m\u001b[1;33m.\u001b[0m\u001b[0mcommand_executor\u001b[0m\u001b[1;33m.\u001b[0m\u001b[0mexecute\u001b[0m\u001b[1;33m(\u001b[0m\u001b[0mdriver_command\u001b[0m\u001b[1;33m,\u001b[0m \u001b[0mparams\u001b[0m\u001b[1;33m)\u001b[0m\u001b[1;33m\u001b[0m\u001b[1;33m\u001b[0m\u001b[0m\n\u001b[0;32m    423\u001b[0m         \u001b[1;32mif\u001b[0m \u001b[0mresponse\u001b[0m\u001b[1;33m:\u001b[0m\u001b[1;33m\u001b[0m\u001b[1;33m\u001b[0m\u001b[0m\n\u001b[1;32m--> 424\u001b[1;33m             \u001b[0mself\u001b[0m\u001b[1;33m.\u001b[0m\u001b[0merror_handler\u001b[0m\u001b[1;33m.\u001b[0m\u001b[0mcheck_response\u001b[0m\u001b[1;33m(\u001b[0m\u001b[0mresponse\u001b[0m\u001b[1;33m)\u001b[0m\u001b[1;33m\u001b[0m\u001b[1;33m\u001b[0m\u001b[0m\n\u001b[0m\u001b[0;32m    425\u001b[0m             response['value'] = self._unwrap_value(\n\u001b[0;32m    426\u001b[0m                 response.get('value', None))\n",
      "\u001b[1;32mC:\\ProgramData\\Anaconda3\\lib\\site-packages\\selenium\\webdriver\\remote\\errorhandler.py\u001b[0m in \u001b[0;36mcheck_response\u001b[1;34m(self, response)\u001b[0m\n\u001b[0;32m    245\u001b[0m                 \u001b[0malert_text\u001b[0m \u001b[1;33m=\u001b[0m \u001b[0mvalue\u001b[0m\u001b[1;33m[\u001b[0m\u001b[1;34m'alert'\u001b[0m\u001b[1;33m]\u001b[0m\u001b[1;33m.\u001b[0m\u001b[0mget\u001b[0m\u001b[1;33m(\u001b[0m\u001b[1;34m'text'\u001b[0m\u001b[1;33m)\u001b[0m\u001b[1;33m\u001b[0m\u001b[1;33m\u001b[0m\u001b[0m\n\u001b[0;32m    246\u001b[0m             \u001b[1;32mraise\u001b[0m \u001b[0mexception_class\u001b[0m\u001b[1;33m(\u001b[0m\u001b[0mmessage\u001b[0m\u001b[1;33m,\u001b[0m \u001b[0mscreen\u001b[0m\u001b[1;33m,\u001b[0m \u001b[0mstacktrace\u001b[0m\u001b[1;33m,\u001b[0m \u001b[0malert_text\u001b[0m\u001b[1;33m)\u001b[0m  \u001b[1;31m# type: ignore[call-arg]  # mypy is not smart enough here\u001b[0m\u001b[1;33m\u001b[0m\u001b[1;33m\u001b[0m\u001b[0m\n\u001b[1;32m--> 247\u001b[1;33m         \u001b[1;32mraise\u001b[0m \u001b[0mexception_class\u001b[0m\u001b[1;33m(\u001b[0m\u001b[0mmessage\u001b[0m\u001b[1;33m,\u001b[0m \u001b[0mscreen\u001b[0m\u001b[1;33m,\u001b[0m \u001b[0mstacktrace\u001b[0m\u001b[1;33m)\u001b[0m\u001b[1;33m\u001b[0m\u001b[1;33m\u001b[0m\u001b[0m\n\u001b[0m\u001b[0;32m    248\u001b[0m \u001b[1;33m\u001b[0m\u001b[0m\n\u001b[0;32m    249\u001b[0m     \u001b[1;32mdef\u001b[0m \u001b[0m_value_or_default\u001b[0m\u001b[1;33m(\u001b[0m\u001b[0mself\u001b[0m\u001b[1;33m,\u001b[0m \u001b[0mobj\u001b[0m\u001b[1;33m:\u001b[0m \u001b[0mMapping\u001b[0m\u001b[1;33m[\u001b[0m\u001b[0m_KT\u001b[0m\u001b[1;33m,\u001b[0m \u001b[0m_VT\u001b[0m\u001b[1;33m]\u001b[0m\u001b[1;33m,\u001b[0m \u001b[0mkey\u001b[0m\u001b[1;33m:\u001b[0m \u001b[0m_KT\u001b[0m\u001b[1;33m,\u001b[0m \u001b[0mdefault\u001b[0m\u001b[1;33m:\u001b[0m \u001b[0m_VT\u001b[0m\u001b[1;33m)\u001b[0m \u001b[1;33m->\u001b[0m \u001b[0m_VT\u001b[0m\u001b[1;33m:\u001b[0m\u001b[1;33m\u001b[0m\u001b[1;33m\u001b[0m\u001b[0m\n",
      "\u001b[1;31mElementClickInterceptedException\u001b[0m: Message: element click intercepted: Element <input name=\"terms\" id=\"terms\" value=\"1\" class=\"check\" type=\"checkbox\"> is not clickable at point (316, 324). Other element would receive the click: <fieldset>...</fieldset>\n  (Session info: chrome=98.0.4758.82)\nStacktrace:\nBacktrace:\n\tOrdinal0 [0x0097FDC3+2555331]\n\tOrdinal0 [0x009177F1+2127857]\n\tOrdinal0 [0x00812E08+1060360]\n\tOrdinal0 [0x008448CF+1263823]\n\tOrdinal0 [0x00842B10+1256208]\n\tOrdinal0 [0x0084076B+1247083]\n\tOrdinal0 [0x0083F559+1242457]\n\tOrdinal0 [0x00834FB3+1200051]\n\tOrdinal0 [0x00857B0C+1342220]\n\tOrdinal0 [0x00834984+1198468]\n\tOrdinal0 [0x00857C14+1342484]\n\tOrdinal0 [0x008675FA+1406458]\n\tOrdinal0 [0x00857976+1341814]\n\tOrdinal0 [0x008336B6+1193654]\n\tOrdinal0 [0x00834546+1197382]\n\tGetHandleVerifier [0x00B19622+1619522]\n\tGetHandleVerifier [0x00BC882C+2336844]\n\tGetHandleVerifier [0x00A123E1+541697]\n\tGetHandleVerifier [0x00A11443+537699]\n\tOrdinal0 [0x0091D18E+2150798]\n\tOrdinal0 [0x00921518+2168088]\n\tOrdinal0 [0x00921660+2168416]\n\tOrdinal0 [0x0092B330+2208560]\n\tBaseThreadInitThunk [0x76FEFA29+25]\n\tRtlGetAppContainerNamedObjectPath [0x77597A9E+286]\n\tRtlGetAppContainerNamedObjectPath [0x77597A6E+238]\n"
     ]
    }
   ],
   "source": [
    "\n",
    "#agreement\n",
    "driver.find_element_by_xpath('/html/body/div[2]/div[3]/div/form/div/fieldset/div[17]/div/input').click()\n"
   ]
  },
  {
   "cell_type": "code",
   "execution_count": null,
   "id": "50817f9b",
   "metadata": {},
   "outputs": [],
   "source": []
  },
  {
   "cell_type": "code",
   "execution_count": null,
   "id": "cc70145b",
   "metadata": {},
   "outputs": [],
   "source": [
    "fatai=driver.find_element_by_xpath(\"/html/body/div[2]/div[3]/div/form/div/fieldset/div[19]/div\").get_attribute('innerHTML')\n",
    "blokos=fatai[111:111+8]\n",
    "while blokos=='disabled':\n",
    "    time.sleep(10)\n",
    "    fatai=driver.find_element_by_xpath(\"/html/body/div[2]/div[3]/div/form/div/fieldset/div[19]/div\").get_attribute('innerHTML')\n",
    "    blokos=fatai[111:111+8]"
   ]
  },
  {
   "cell_type": "code",
   "execution_count": null,
   "id": "095d7c9b",
   "metadata": {},
   "outputs": [],
   "source": []
  },
  {
   "cell_type": "code",
   "execution_count": null,
   "id": "1bea2dfc",
   "metadata": {},
   "outputs": [],
   "source": [
    "#commission\n",
    "driver.find_element_by_xpath('/html/body/div[2]/div[3]/div/form/div/fieldset/div[19]/div/button').click()\n",
    "\n",
    "driver.implicitly_wait(10)\n"
   ]
  },
  {
   "cell_type": "code",
   "execution_count": null,
   "id": "8ebd0df5",
   "metadata": {},
   "outputs": [],
   "source": []
  },
  {
   "cell_type": "code",
   "execution_count": null,
   "id": "39af865f",
   "metadata": {},
   "outputs": [],
   "source": [
    "#skip\n",
    "driver.find_element_by_xpath(\"/html/body/div[2]/div[3]/div/div[4]/div/div/div[3]/button[2]\").click()\n",
    "\n",
    "driver.implicitly_wait(10)\n"
   ]
  },
  {
   "cell_type": "code",
   "execution_count": null,
   "id": "6ae70a88",
   "metadata": {},
   "outputs": [],
   "source": []
  },
  {
   "cell_type": "code",
   "execution_count": 5,
   "id": "f3865a04",
   "metadata": {},
   "outputs": [],
   "source": [
    "#close popup\n",
    "driver.find_element_by_xpath(\"/html/body/div[3]/div/h2/a\").click()\n",
    "time.sleep(5)"
   ]
  },
  {
   "cell_type": "code",
   "execution_count": null,
   "id": "a95de232",
   "metadata": {},
   "outputs": [],
   "source": []
  },
  {
   "cell_type": "code",
   "execution_count": null,
   "id": "5b91ed06",
   "metadata": {},
   "outputs": [],
   "source": []
  },
  {
   "cell_type": "code",
   "execution_count": null,
   "id": "7fd93efe",
   "metadata": {},
   "outputs": [],
   "source": []
  },
  {
   "cell_type": "code",
   "execution_count": null,
   "id": "2f2d0a4d",
   "metadata": {},
   "outputs": [],
   "source": []
  },
  {
   "cell_type": "code",
   "execution_count": null,
   "id": "10ee0432",
   "metadata": {},
   "outputs": [],
   "source": []
  },
  {
   "cell_type": "code",
   "execution_count": null,
   "id": "db18419f",
   "metadata": {},
   "outputs": [],
   "source": []
  },
  {
   "cell_type": "code",
   "execution_count": null,
   "id": "4856c75b",
   "metadata": {},
   "outputs": [],
   "source": [
    "# /html/body/div[2]/div[3]/div/form/div/fieldset/div[5]/div/div[1]/div/h3\n",
    "# /html/body/div[2]/div[3]/div/form/div/fieldset/div[5]/div/div[1]/div/ul[1]\n",
    "# /html/body/div[2]/div[3]/div/form/div/fieldset/div[5]/div/div[1]/div/ul[1]/li[1]\n",
    "# /html/body/div[2]/div[3]/div/form/div/fieldset/div[5]/div/div[1]/div/ul[1]/li[2]\n",
    "# /html/body/div[2]/div[3]/div/form/div/fieldset/div[5]/div/div[1]/div/ul[1]/li[21]\n",
    "\n",
    "\n",
    "\n",
    "# /html/body/div[2]/div[3]/div/form/div/fieldset/div[5]/div/div[1]/div/ul[5]/li[17]"
   ]
  },
  {
   "cell_type": "code",
   "execution_count": null,
   "id": "4668e1b4",
   "metadata": {},
   "outputs": [],
   "source": [
    "# /html/body/div[2]/div[3]/div/form/div/fieldset/div[5]/div/div[2]/div/h3\n",
    "# /html/body/div[2]/div[3]/div/form/div/fieldset/div[5]/div/div[2]/div/ul[1]\n",
    "# /html/body/div[2]/div[3]/div/form/div/fieldset/div[5]/div/div[2]/div/ul[1]/li[1]\n",
    "# /html/body/div[2]/div[3]/div/form/div/fieldset/div[5]/div/div[2]/div/ul[1]/li[1]/input"
   ]
  },
  {
   "cell_type": "code",
   "execution_count": null,
   "id": "9bc92405",
   "metadata": {},
   "outputs": [],
   "source": [
    "# /html/body/div[2]/div[3]/div/form/div/fieldset/div[5]/div/div[3]/div/ul[1]/li[3]\n",
    "# /html/body/div[2]/div[3]/div/form/div/fieldset/div[5]/div/div[3]/div/ul[1]/li[3]/label"
   ]
  },
  {
   "cell_type": "code",
   "execution_count": null,
   "id": "74e063ea",
   "metadata": {},
   "outputs": [],
   "source": []
  },
  {
   "cell_type": "code",
   "execution_count": 12,
   "id": "7b0ce89e",
   "metadata": {},
   "outputs": [],
   "source": [
    "# driver.find_element_by_xpath('/html/body/div[2]/div[3]/div/form/div/fieldset/div[5]/div/div[3]/div/ul[1]/li[3]/label').click()\n",
    "# "
   ]
  },
  {
   "cell_type": "code",
   "execution_count": null,
   "id": "b52cab8d",
   "metadata": {},
   "outputs": [],
   "source": []
  },
  {
   "cell_type": "code",
   "execution_count": null,
   "id": "6004f075",
   "metadata": {},
   "outputs": [],
   "source": []
  },
  {
   "cell_type": "code",
   "execution_count": null,
   "id": "19f0ecc6",
   "metadata": {},
   "outputs": [],
   "source": []
  },
  {
   "cell_type": "code",
   "execution_count": null,
   "id": "8759f29c",
   "metadata": {},
   "outputs": [],
   "source": []
  },
  {
   "cell_type": "code",
   "execution_count": null,
   "id": "a158bf21",
   "metadata": {},
   "outputs": [],
   "source": [
    "# #select a category\n",
    "#     User_input=input(\"Enter any number of category(seperate each category by a comma); \").split(\",\")\n",
    "#     category=[i.strip().title() for i in User_input]\n",
    "    \n",
    "#     category_copy=[i.strip().title() for i in User_input]\n",
    "#     count=0\n",
    "#     for i in range(1,75):\n",
    "#         if count==len(category):\n",
    "#             break\n",
    "#         if count>4:\n",
    "#             break\n",
    "        \n",
    "#         try:\n",
    "#             xpath=f'/html/body/section/div/div[2]/div/div/div/div/div[2]/form/div[1]/div[2]/div[2]/div/div[{i}]'\n",
    "        \n",
    "#             text=driver.find_element_by_xpath(xpath).text\n",
    "            \n",
    "#         except:\n",
    "#             xpath=f'/html/body/section/div/div[2]/div/div/div/div/div[1]/form/div[1]/div[2]/div[2]/div/div[{i}]'\n",
    "\n",
    "#             text=driver.find_element_by_xpath(xpath).text \n",
    "      \n",
    "\n",
    "#         if text in category:\n",
    "#             driver.find_element_by_xpath(xpath).click()\n",
    "#             category_copy.remove(text)\n",
    "#             count+=1\n",
    "\n",
    "#     if len(category_copy)>=1:\n",
    "#         print(\"This list of category was not found\")\n",
    "#         print(category_copy)\n",
    "        "
   ]
  },
  {
   "cell_type": "code",
   "execution_count": null,
   "id": "1316be6b",
   "metadata": {},
   "outputs": [],
   "source": []
  },
  {
   "cell_type": "code",
   "execution_count": null,
   "id": "397b69f8",
   "metadata": {},
   "outputs": [],
   "source": []
  },
  {
   "cell_type": "code",
   "execution_count": 31,
   "id": "acf15803",
   "metadata": {},
   "outputs": [],
   "source": [
    "# import json"
   ]
  },
  {
   "cell_type": "code",
   "execution_count": 32,
   "id": "97fa88ff",
   "metadata": {},
   "outputs": [],
   "source": [
    "# straight={}"
   ]
  },
  {
   "cell_type": "code",
   "execution_count": 33,
   "id": "155df75a",
   "metadata": {},
   "outputs": [],
   "source": [
    "# for i in range(1,22):\n",
    "#     xpath=f'/html/body/div[2]/div[3]/div/form/div/fieldset/div[5]/div/div[1]/div/ul[1]/li[{i}]'\n",
    "#     text=driver.find_element_by_xpath(xpath).text\n",
    "#     straight[text.title()]=xpath\n",
    "#     time.sleep(1)\n",
    "# for i in range(1,22):\n",
    "#     xpath=f'/html/body/div[2]/div[3]/div/form/div/fieldset/div[5]/div/div[1]/div/ul[2]/li[{i}]'\n",
    "#     text=driver.find_element_by_xpath(xpath).text\n",
    "#     straight[text.title()]=xpath\n",
    "#     time.sleep(1)\n",
    "# for i in range(1,22):\n",
    "#     xpath=f'/html/body/div[2]/div[3]/div/form/div/fieldset/div[5]/div/div[1]/div/ul[3]/li[{i}]'\n",
    "#     text=driver.find_element_by_xpath(xpath).text\n",
    "#     straight[text.title()]=xpath\n",
    "#     time.sleep(1)\n",
    "# for i in range(1,22):\n",
    "#     xpath=f'/html/body/div[2]/div[3]/div/form/div/fieldset/div[5]/div/div[1]/div/ul[4]/li[{i}]'\n",
    "#     text=driver.find_element_by_xpath(xpath).text\n",
    "#     straight[text.title()]=xpath\n",
    "# for i in range(1,22):\n",
    "#     xpath=f'/html/body/div[2]/div[3]/div/form/div/fieldset/div[5]/div/div[1]/div/ul[5]/li[{i}]'\n",
    "#     text=driver.find_element_by_xpath(xpath).text\n",
    "#     straight[text.title()]=xpath"
   ]
  },
  {
   "cell_type": "code",
   "execution_count": 34,
   "id": "fcfedc7d",
   "metadata": {},
   "outputs": [],
   "source": [
    "# straight"
   ]
  },
  {
   "cell_type": "code",
   "execution_count": 35,
   "id": "13ffa96d",
   "metadata": {},
   "outputs": [],
   "source": [
    "# with open(\"straight.txt\",\"w\") as f:\n",
    "#    f.write(json.dumps(straight))"
   ]
  },
  {
   "cell_type": "code",
   "execution_count": null,
   "id": "af079b18",
   "metadata": {},
   "outputs": [],
   "source": []
  },
  {
   "cell_type": "code",
   "execution_count": 36,
   "id": "5ca7adcf",
   "metadata": {},
   "outputs": [],
   "source": [
    "# gay={}"
   ]
  },
  {
   "cell_type": "code",
   "execution_count": 37,
   "id": "22bef202",
   "metadata": {},
   "outputs": [],
   "source": [
    "# for i in range(1,11):\n",
    "#     xpath=f'/html/body/div[2]/div[3]/div/form/div/fieldset/div[5]/div/div[2]/div/ul[1]/li[{i}]'\n",
    "#     text=driver.find_element_by_xpath(xpath).text\n",
    "#     gay[text.title()]=xpath\n",
    "#     time.sleep(1)\n",
    "# for i in range(1,11):\n",
    "#     xpath=f'/html/body/div[2]/div[3]/div/form/div/fieldset/div[5]/div/div[2]/div/ul[2]/li[{i}]'\n",
    "#     text=driver.find_element_by_xpath(xpath).text\n",
    "#     gay[text.title()]=xpath\n",
    "#     time.sleep(1)\n",
    "# for i in range(1,11):\n",
    "#     xpath=f'/html/body/div[2]/div[3]/div/form/div/fieldset/div[5]/div/div[2]/div/ul[3]/li[{i}]'\n",
    "#     text=driver.find_element_by_xpath(xpath).text\n",
    "#     gay[text.title()]=xpath\n",
    "#     time.sleep(1)\n",
    "# for i in range(1,11):\n",
    "#     xpath=f'/html/body/div[2]/div[3]/div/form/div/fieldset/div[5]/div/div[2]/div/ul[4]/li[{i}]'\n",
    "#     text=driver.find_element_by_xpath(xpath).text\n",
    "#     gay[text.title()]=xpath\n",
    "# for i in range(1,11):\n",
    "#     xpath=f'/html/body/div[2]/div[3]/div/form/div/fieldset/div[5]/div/div[2]/div/ul[5]/li[{i}]'\n",
    "#     text=driver.find_element_by_xpath(xpath).text\n",
    "#     gay[text.title()]=xpath"
   ]
  },
  {
   "cell_type": "code",
   "execution_count": 38,
   "id": "0e5aa417",
   "metadata": {},
   "outputs": [],
   "source": [
    "# gay"
   ]
  },
  {
   "cell_type": "code",
   "execution_count": 39,
   "id": "72a29763",
   "metadata": {},
   "outputs": [],
   "source": [
    "# with open(\"gay.txt\",\"w\") as f:\n",
    "#     f.write(json.dumps(gay))"
   ]
  },
  {
   "cell_type": "code",
   "execution_count": null,
   "id": "cea3d482",
   "metadata": {},
   "outputs": [],
   "source": []
  },
  {
   "cell_type": "code",
   "execution_count": 40,
   "id": "7aff308a",
   "metadata": {},
   "outputs": [],
   "source": [
    "# trans={}"
   ]
  },
  {
   "cell_type": "code",
   "execution_count": 41,
   "id": "d1bb4cf2",
   "metadata": {},
   "outputs": [],
   "source": [
    "# for i in range(1,8):\n",
    "#     xpath=f'/html/body/div[2]/div[3]/div/form/div/fieldset/div[5]/div/div[3]/div/ul[1]/li[{i}]'\n",
    "#     text=driver.find_element_by_xpath(xpath).text\n",
    "#     trans[text.title()]=xpath\n",
    "# for i in range(1,8):\n",
    "#     xpath=f'/html/body/div[2]/div[3]/div/form/div/fieldset/div[5]/div/div[3]/div/ul[2]/li[{i}]'\n",
    "#     text=driver.find_element_by_xpath(xpath).text\n",
    "#     trans[text.title()]=xpath\n",
    "# for i in range(1,8):\n",
    "#     xpath=f'/html/body/div[2]/div[3]/div/form/div/fieldset/div[5]/div/div[3]/div/ul[3]/li[{i}]'\n",
    "#     text=driver.find_element_by_xpath(xpath).text\n",
    "#     trans[text.title()]=xpath\n",
    "# for i in range(1,8):\n",
    "#     xpath=f'/html/body/div[2]/div[3]/div/form/div/fieldset/div[5]/div/div[3]/div/ul[4]/li[{i}]'\n",
    "#     text=driver.find_element_by_xpath(xpath).text\n",
    "#     trans[text.title()]=xpath\n",
    "# for i in range(1,8):\n",
    "#     xpath=f'/html/body/div[2]/div[3]/div/form/div/fieldset/div[5]/div/div[3]/div/ul[5]/li[{i}]'\n",
    "#     text=driver.find_element_by_xpath(xpath).text\n",
    "#     trans[text.title()]=xpath"
   ]
  },
  {
   "cell_type": "code",
   "execution_count": 42,
   "id": "c4d5e9f9",
   "metadata": {},
   "outputs": [],
   "source": [
    "# trans"
   ]
  },
  {
   "cell_type": "code",
   "execution_count": 43,
   "id": "f9f9fe02",
   "metadata": {},
   "outputs": [],
   "source": [
    "# with open(\"trans.txt\",\"w\") as f:\n",
    "#     f.write(json.dumps(trans))"
   ]
  },
  {
   "cell_type": "code",
   "execution_count": null,
   "id": "8746cd43",
   "metadata": {},
   "outputs": [],
   "source": []
  },
  {
   "cell_type": "code",
   "execution_count": null,
   "id": "620bfc8b",
   "metadata": {},
   "outputs": [],
   "source": []
  },
  {
   "cell_type": "code",
   "execution_count": null,
   "id": "0fce3e77",
   "metadata": {},
   "outputs": [],
   "source": []
  },
  {
   "cell_type": "code",
   "execution_count": null,
   "id": "6344ba50",
   "metadata": {},
   "outputs": [],
   "source": []
  }
 ],
 "metadata": {
  "kernelspec": {
   "display_name": "Python 3 (ipykernel)",
   "language": "python",
   "name": "python3"
  },
  "language_info": {
   "codemirror_mode": {
    "name": "ipython",
    "version": 3
   },
   "file_extension": ".py",
   "mimetype": "text/x-python",
   "name": "python",
   "nbconvert_exporter": "python",
   "pygments_lexer": "ipython3",
   "version": "3.9.7"
  }
 },
 "nbformat": 4,
 "nbformat_minor": 5
}
